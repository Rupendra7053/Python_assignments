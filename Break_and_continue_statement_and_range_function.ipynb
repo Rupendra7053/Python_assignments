{
 "cells": [
  {
   "cell_type": "markdown",
   "id": "69f5063c-b830-4269-aa86-f886efaa3290",
   "metadata": {},
   "source": [
    "# 1. Write a program to print numbers from 1 to 10, but stop if the number is 5"
   ]
  },
  {
   "cell_type": "code",
   "execution_count": 3,
   "id": "468a657f-6219-4e19-bbef-552877ce7a94",
   "metadata": {},
   "outputs": [
    {
     "name": "stdout",
     "output_type": "stream",
     "text": [
      "1\n",
      "2\n",
      "3\n",
      "4\n"
     ]
    }
   ],
   "source": [
    "for i in range(1,11):\n",
    "    if i == 5:\n",
    "        break\n",
    "    print(i)"
   ]
  },
  {
   "cell_type": "markdown",
   "id": "5225b2f7-4e25-45ec-aada-211f2af9b434",
   "metadata": {},
   "source": [
    "# 2. Write a program to iterate through a list and stop when encountering a specific element."
   ]
  },
  {
   "cell_type": "code",
   "execution_count": 4,
   "id": "7e9ad163-3745-4cd1-8110-a4a06f1ba907",
   "metadata": {},
   "outputs": [
    {
     "name": "stdout",
     "output_type": "stream",
     "text": [
      "pw\n",
      "skills\n",
      "1\n",
      "2\n",
      "%\n"
     ]
    }
   ],
   "source": [
    "list1 = ['pw', 'skills', 1 , 2 ,'%', '#', 'shyam',5+1j]\n",
    "for value in list1:\n",
    "    if value == '#':\n",
    "        break\n",
    "    print(value)\n",
    "        "
   ]
  },
  {
   "cell_type": "markdown",
   "id": "a88da04b-a497-4f2c-8f5d-9b216ea5edb4",
   "metadata": {},
   "source": [
    "# 3. Write a program to skip printing even number from 1 to 10."
   ]
  },
  {
   "cell_type": "code",
   "execution_count": 5,
   "id": "f3abe836-9274-47a4-b686-2ea4707efe86",
   "metadata": {},
   "outputs": [
    {
     "name": "stdout",
     "output_type": "stream",
     "text": [
      "1\n",
      "3\n",
      "5\n",
      "7\n",
      "9\n"
     ]
    }
   ],
   "source": [
    "for i in range(1,11):\n",
    "    if i%2 ==0:\n",
    "        continue\n",
    "    print(i)"
   ]
  },
  {
   "cell_type": "markdown",
   "id": "26176afa-38ca-460d-ba3d-afa3242b143a",
   "metadata": {},
   "source": [
    "# 4. Write a program to print number from 0 to 9 using range()."
   ]
  },
  {
   "cell_type": "code",
   "execution_count": 9,
   "id": "11cff24e-fd1f-4e52-bb5b-d4913926c7e3",
   "metadata": {},
   "outputs": [
    {
     "name": "stdout",
     "output_type": "stream",
     "text": [
      "0\n",
      "1\n",
      "2\n",
      "3\n",
      "4\n",
      "5\n",
      "6\n",
      "7\n",
      "8\n",
      "9\n"
     ]
    }
   ],
   "source": [
    "for i in range(10):\n",
    "    print(i)"
   ]
  },
  {
   "cell_type": "markdown",
   "id": "6733eabc-ddb8-4fb6-abdf-ea0ebde129e5",
   "metadata": {},
   "source": [
    "# 5. Write a program to print multiplication table from 1 to 5 , but stop after the first table is printed for each number."
   ]
  },
  {
   "cell_type": "code",
   "execution_count": 10,
   "id": "7edca7e4-8c55-418a-922d-2df1760f481f",
   "metadata": {},
   "outputs": [
    {
     "name": "stdout",
     "output_type": "stream",
     "text": [
      "\n",
      "Table of 1\n",
      "1 X 1 = 1\n",
      "1 X 2 = 2\n",
      "1 X 3 = 3\n",
      "1 X 4 = 4\n",
      "1 X 5 = 5\n",
      "1 X 6 = 6\n",
      "1 X 7 = 7\n",
      "1 X 8 = 8\n",
      "1 X 9 = 9\n",
      "1 X 10 = 10\n",
      "\n",
      "Table of 2\n",
      "2 X 1 = 2\n",
      "2 X 2 = 4\n",
      "2 X 3 = 6\n",
      "2 X 4 = 8\n",
      "2 X 5 = 10\n",
      "2 X 6 = 12\n",
      "2 X 7 = 14\n",
      "2 X 8 = 16\n",
      "2 X 9 = 18\n",
      "2 X 10 = 20\n",
      "\n",
      "Table of 3\n",
      "3 X 1 = 3\n",
      "3 X 2 = 6\n",
      "3 X 3 = 9\n",
      "3 X 4 = 12\n",
      "3 X 5 = 15\n",
      "3 X 6 = 18\n",
      "3 X 7 = 21\n",
      "3 X 8 = 24\n",
      "3 X 9 = 27\n",
      "3 X 10 = 30\n",
      "\n",
      "Table of 4\n",
      "4 X 1 = 4\n",
      "4 X 2 = 8\n",
      "4 X 3 = 12\n",
      "4 X 4 = 16\n",
      "4 X 5 = 20\n",
      "4 X 6 = 24\n",
      "4 X 7 = 28\n",
      "4 X 8 = 32\n",
      "4 X 9 = 36\n",
      "4 X 10 = 40\n",
      "\n",
      "Table of 5\n",
      "5 X 1 = 5\n",
      "5 X 2 = 10\n",
      "5 X 3 = 15\n",
      "5 X 4 = 20\n",
      "5 X 5 = 25\n",
      "5 X 6 = 30\n",
      "5 X 7 = 35\n",
      "5 X 8 = 40\n",
      "5 X 9 = 45\n",
      "5 X 10 = 50\n"
     ]
    }
   ],
   "source": [
    "for i in range(1,6):\n",
    "    print(f\"\\nTable of {i}\")\n",
    "    for j in range(1,11):\n",
    "        print(f\"{i} X {j} = {i*j}\")"
   ]
  },
  {
   "cell_type": "markdown",
   "id": "46589906-53ec-4697-af30-9d8e317437b2",
   "metadata": {},
   "source": [
    "# 6. Write a program to skip printing even numbers using a while loop."
   ]
  },
  {
   "cell_type": "code",
   "execution_count": 11,
   "id": "dc499ecd-6dc5-4f24-b827-eb1c6b1edd48",
   "metadata": {},
   "outputs": [
    {
     "name": "stdout",
     "output_type": "stream",
     "text": [
      "1\n",
      "3\n",
      "5\n",
      "7\n",
      "9\n"
     ]
    }
   ],
   "source": [
    "i = 1\n",
    "while i<=10:\n",
    "    if i%2==0:\n",
    "        i+=1\n",
    "        continue\n",
    "    print(i)\n",
    "    i+=1"
   ]
  },
  {
   "cell_type": "code",
   "execution_count": null,
   "id": "a48a1022-cb32-476a-a5b0-202c7414c8c1",
   "metadata": {},
   "outputs": [],
   "source": []
  }
 ],
 "metadata": {
  "kernelspec": {
   "display_name": "Python 3 (ipykernel)",
   "language": "python",
   "name": "python3"
  },
  "language_info": {
   "codemirror_mode": {
    "name": "ipython",
    "version": 3
   },
   "file_extension": ".py",
   "mimetype": "text/x-python",
   "name": "python",
   "nbconvert_exporter": "python",
   "pygments_lexer": "ipython3",
   "version": "3.12.1"
  }
 },
 "nbformat": 4,
 "nbformat_minor": 5
}
