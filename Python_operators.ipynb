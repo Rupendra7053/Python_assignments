{
 "cells": [
  {
   "cell_type": "markdown",
   "id": "26f6a654-f5f3-4cea-8615-ae5986073fd5",
   "metadata": {},
   "source": [
    "# 1. Calculate the sum, difference, product, and quotient of two numbers."
   ]
  },
  {
   "cell_type": "code",
   "execution_count": 1,
   "id": "e365441d-9d07-413c-bbd4-80ba853063ce",
   "metadata": {},
   "outputs": [
    {
     "name": "stdout",
     "output_type": "stream",
     "text": [
      "Sum of a and b is 200 \n",
      "Difference of a and b is 100 \n",
      "Product of a and b is 7500 \n",
      "Quotient of a and b is 3.0 \n"
     ]
    }
   ],
   "source": [
    "a = 150\n",
    "b = 50\n",
    "sum = a+b\n",
    "difference = a-b\n",
    "product = a*b\n",
    "quotient = a/b\n",
    "\n",
    "print(f\"Sum of a and b is {sum} \\nDifference of a and b is {difference} \\nProduct of a and b is {product} \\nQuotient of a and b is {quotient} \")"
   ]
  },
  {
   "cell_type": "markdown",
   "id": "02e9c518-b194-4bf9-b912-2d6df4ec5429",
   "metadata": {},
   "source": [
    "# 2. Perform various assignment operations on a variable"
   ]
  },
  {
   "cell_type": "code",
   "execution_count": 3,
   "id": "39e418f2-c4d2-4948-8cae-4726f25467e4",
   "metadata": {},
   "outputs": [],
   "source": [
    "c = 10"
   ]
  },
  {
   "cell_type": "code",
   "execution_count": 4,
   "id": "a0e0011b-ac2c-482c-b08b-9e26bc64d1d0",
   "metadata": {},
   "outputs": [
    {
     "data": {
      "text/plain": [
       "10"
      ]
     },
     "execution_count": 4,
     "metadata": {},
     "output_type": "execute_result"
    }
   ],
   "source": [
    "c"
   ]
  },
  {
   "cell_type": "code",
   "execution_count": 7,
   "id": "3b072853-e64f-44f3-b76d-3ce6266d5d47",
   "metadata": {},
   "outputs": [],
   "source": [
    "c+=5 # c = c+5"
   ]
  },
  {
   "cell_type": "code",
   "execution_count": 6,
   "id": "28de65b6-a62e-4bc1-98be-695e7f606441",
   "metadata": {},
   "outputs": [
    {
     "data": {
      "text/plain": [
       "15"
      ]
     },
     "execution_count": 6,
     "metadata": {},
     "output_type": "execute_result"
    }
   ],
   "source": [
    "c"
   ]
  },
  {
   "cell_type": "code",
   "execution_count": 10,
   "id": "5155a8e0-04cd-46eb-99fd-6e685f6c8a59",
   "metadata": {},
   "outputs": [],
   "source": [
    "c-=5 # c=c-5"
   ]
  },
  {
   "cell_type": "code",
   "execution_count": 11,
   "id": "3cc5dafe-4374-4b84-bdaf-d34b75df0a61",
   "metadata": {},
   "outputs": [
    {
     "data": {
      "text/plain": [
       "10"
      ]
     },
     "execution_count": 11,
     "metadata": {},
     "output_type": "execute_result"
    }
   ],
   "source": [
    "c"
   ]
  },
  {
   "cell_type": "code",
   "execution_count": 21,
   "id": "94039f20-7336-42db-af87-c834d5138ec0",
   "metadata": {},
   "outputs": [],
   "source": [
    "c*=5 # c=c*5"
   ]
  },
  {
   "cell_type": "code",
   "execution_count": 23,
   "id": "a91f7c20-8643-4980-9f37-2e733fffaf8f",
   "metadata": {},
   "outputs": [
    {
     "data": {
      "text/plain": [
       "50.0"
      ]
     },
     "execution_count": 23,
     "metadata": {},
     "output_type": "execute_result"
    }
   ],
   "source": [
    "c"
   ]
  },
  {
   "cell_type": "code",
   "execution_count": 24,
   "id": "01df0c11-af34-4b1d-bc95-894c8bc79474",
   "metadata": {},
   "outputs": [],
   "source": [
    "c/=5"
   ]
  },
  {
   "cell_type": "code",
   "execution_count": 25,
   "id": "3112c246-100f-489e-b7b6-aeb0ba8b0cce",
   "metadata": {},
   "outputs": [
    {
     "data": {
      "text/plain": [
       "10.0"
      ]
     },
     "execution_count": 25,
     "metadata": {},
     "output_type": "execute_result"
    }
   ],
   "source": [
    "c"
   ]
  },
  {
   "cell_type": "code",
   "execution_count": 26,
   "id": "ed460b90-1ddc-40b0-8159-8b3f0f419a51",
   "metadata": {},
   "outputs": [
    {
     "data": {
      "text/plain": [
       "3"
      ]
     },
     "execution_count": 26,
     "metadata": {},
     "output_type": "execute_result"
    }
   ],
   "source": [
    "b = 23\n",
    "b%=5\n",
    "b"
   ]
  },
  {
   "cell_type": "code",
   "execution_count": 28,
   "id": "97351a39-45d0-4a3f-abef-5700a7e722b4",
   "metadata": {},
   "outputs": [
    {
     "data": {
      "text/plain": [
       "10"
      ]
     },
     "execution_count": 28,
     "metadata": {},
     "output_type": "execute_result"
    }
   ],
   "source": [
    "d = 52\n",
    "d//=5\n",
    "d"
   ]
  },
  {
   "cell_type": "code",
   "execution_count": 29,
   "id": "6b8ea54b-3a70-450c-8378-55958e255199",
   "metadata": {},
   "outputs": [],
   "source": [
    "e = 5"
   ]
  },
  {
   "cell_type": "code",
   "execution_count": 30,
   "id": "a76818c6-019e-41d0-bdda-3aabd47cad97",
   "metadata": {},
   "outputs": [],
   "source": [
    "e**=2 # e = e*e"
   ]
  },
  {
   "cell_type": "code",
   "execution_count": 31,
   "id": "1e91315b-40d9-45b8-b5db-e1ad7e18caf4",
   "metadata": {},
   "outputs": [
    {
     "data": {
      "text/plain": [
       "25"
      ]
     },
     "execution_count": 31,
     "metadata": {},
     "output_type": "execute_result"
    }
   ],
   "source": [
    "e"
   ]
  },
  {
   "cell_type": "markdown",
   "id": "a5907a4d-7fa0-4559-b2a5-dc300ebe5756",
   "metadata": {},
   "source": [
    "# 3. Compare two number and print the result"
   ]
  },
  {
   "cell_type": "code",
   "execution_count": 34,
   "id": "9e5bfb4c-8d8c-4907-b8fe-1a63d3b124c2",
   "metadata": {},
   "outputs": [
    {
     "name": "stdout",
     "output_type": "stream",
     "text": [
      "False\n",
      "True\n",
      "False\n",
      "True\n",
      "True\n",
      "False\n"
     ]
    }
   ],
   "source": [
    "num1 = 50\n",
    "num2 = 100\n",
    "print(num1==num2)\n",
    "print(num1!=num2)\n",
    "print(num1>num2)\n",
    "print(num1<num2)\n",
    "print(num1<=num2)\n",
    "print(num1>=num2)\n"
   ]
  },
  {
   "cell_type": "markdown",
   "id": "1347875e-803f-4597-b90b-fc1dd442950c",
   "metadata": {},
   "source": [
    "# 4. Check conditions using logical operator"
   ]
  },
  {
   "cell_type": "code",
   "execution_count": 3,
   "id": "25bae571-5184-4131-be06-7d1291f720a6",
   "metadata": {},
   "outputs": [
    {
     "data": {
      "text/plain": [
       "True"
      ]
     },
     "execution_count": 3,
     "metadata": {},
     "output_type": "execute_result"
    }
   ],
   "source": [
    "x = 10 # and operator - returns true if both statements are true\n",
    "x>5 and x<15"
   ]
  },
  {
   "cell_type": "code",
   "execution_count": 4,
   "id": "87b00213-3c49-4f56-b8e1-95615eab537f",
   "metadata": {},
   "outputs": [
    {
     "data": {
      "text/plain": [
       "False"
      ]
     },
     "execution_count": 4,
     "metadata": {},
     "output_type": "execute_result"
    }
   ],
   "source": [
    "x = 10 \n",
    "x>10 and x<10"
   ]
  },
  {
   "cell_type": "code",
   "execution_count": 5,
   "id": "3f2df464-6062-4f31-8266-e33cb9be1081",
   "metadata": {},
   "outputs": [
    {
     "data": {
      "text/plain": [
       "True"
      ]
     },
     "execution_count": 5,
     "metadata": {},
     "output_type": "execute_result"
    }
   ],
   "source": [
    "x = 10 # or operator - return true if either value is true\n",
    "x>15 or x<15\n"
   ]
  },
  {
   "cell_type": "code",
   "execution_count": 6,
   "id": "14c06f7d-22a4-4823-9adf-7aa23d02a419",
   "metadata": {},
   "outputs": [
    {
     "data": {
      "text/plain": [
       "False"
      ]
     },
     "execution_count": 6,
     "metadata": {},
     "output_type": "execute_result"
    }
   ],
   "source": [
    "x = 10    # not operator - reverse the result \n",
    "not (x>5 and x<15)"
   ]
  },
  {
   "cell_type": "markdown",
   "id": "160e6bf6-3124-432b-814b-895723ba91c1",
   "metadata": {},
   "source": [
    "# 5. Check the identity of a variable"
   ]
  },
  {
   "cell_type": "code",
   "execution_count": 9,
   "id": "9d516f3d-d89b-472e-a448-ad0bdfb887b8",
   "metadata": {},
   "outputs": [],
   "source": [
    "a = 10\n",
    "b = 5"
   ]
  },
  {
   "cell_type": "code",
   "execution_count": 10,
   "id": "47281cf1-15aa-456b-8fb4-b3297af34566",
   "metadata": {},
   "outputs": [
    {
     "data": {
      "text/plain": [
       "False"
      ]
     },
     "execution_count": 10,
     "metadata": {},
     "output_type": "execute_result"
    }
   ],
   "source": [
    "a is b "
   ]
  },
  {
   "cell_type": "code",
   "execution_count": 12,
   "id": "dc43edb9-9aba-4d21-bd5d-4b3db0f948a8",
   "metadata": {},
   "outputs": [
    {
     "data": {
      "text/plain": [
       "True"
      ]
     },
     "execution_count": 12,
     "metadata": {},
     "output_type": "execute_result"
    }
   ],
   "source": [
    "a = 10 # It returns true if both the objects are same and assocaited at same memory location.\n",
    "b = a \n",
    "a is b "
   ]
  },
  {
   "cell_type": "code",
   "execution_count": 13,
   "id": "407bc267-3bb2-4a33-a17a-a88d0dd7760c",
   "metadata": {},
   "outputs": [
    {
     "data": {
      "text/plain": [
       "True"
      ]
     },
     "execution_count": 13,
     "metadata": {},
     "output_type": "execute_result"
    }
   ],
   "source": [
    "a = 10\n",
    "c = 25\n",
    "a is not c"
   ]
  },
  {
   "cell_type": "markdown",
   "id": "7128c6e4-f7ae-4410-b0a8-134d6c0d57e0",
   "metadata": {},
   "source": [
    " # 6. Perform bitwise operation on any two integer."
   ]
  },
  {
   "cell_type": "code",
   "execution_count": 17,
   "id": "e26aea34-7568-498b-bc86-c0b137c5efc0",
   "metadata": {},
   "outputs": [
    {
     "name": "stdout",
     "output_type": "stream",
     "text": [
      "0\n",
      "15\n",
      "15\n",
      "-11\n"
     ]
    }
   ],
   "source": [
    "a = 10 \n",
    "b = 5\n",
    "print(a&b) # AND - set each bit to 1 if both bits are 1 else 0\n",
    "print(a|b) # OR - set each bit to 1 if either of the bits is 1\n",
    "print(a^b) # XOR - set each bit to 1 if only one of two bits is 1\n",
    "print(~a) # negation(NOT) - Inverts all the bits "
   ]
  },
  {
   "cell_type": "code",
   "execution_count": 23,
   "id": "6c25cbc0-10c7-4e77-8e0c-db5852f6624f",
   "metadata": {},
   "outputs": [
    {
     "data": {
      "text/plain": [
       "80"
      ]
     },
     "execution_count": 23,
     "metadata": {},
     "output_type": "execute_result"
    }
   ],
   "source": [
    "# left shift operator - put number of zeroes on right side \n",
    "10<<3"
   ]
  },
  {
   "cell_type": "code",
   "execution_count": 25,
   "id": "19f509ae-a94d-4536-951b-f5021c32257d",
   "metadata": {},
   "outputs": [
    {
     "name": "stdout",
     "output_type": "stream",
     "text": [
      "0b1010\n",
      "0b1010000\n"
     ]
    }
   ],
   "source": [
    "print(bin(10))\n",
    "print(bin(80))"
   ]
  },
  {
   "cell_type": "code",
   "execution_count": 28,
   "id": "ce54e1cc-38ab-4ec3-b7b0-1f59a1049e8d",
   "metadata": {},
   "outputs": [
    {
     "data": {
      "text/plain": [
       "35"
      ]
     },
     "execution_count": 28,
     "metadata": {},
     "output_type": "execute_result"
    }
   ],
   "source": [
    "# Right shift operator - remove the number of elements in a binary\n",
    "280>>3"
   ]
  },
  {
   "cell_type": "code",
   "execution_count": 27,
   "id": "79bc70ad-d1cb-4484-976b-6d9917bef951",
   "metadata": {},
   "outputs": [
    {
     "name": "stdout",
     "output_type": "stream",
     "text": [
      "0b100011000\n",
      "0b100011\n"
     ]
    }
   ],
   "source": [
    "print(bin(280))\n",
    "print(bin(35))"
   ]
  },
  {
   "cell_type": "markdown",
   "id": "4b4f7e88-f376-4e15-9d26-c5f3211a794e",
   "metadata": {},
   "source": [
    "# 7. Use unary operators to change the sign of a number "
   ]
  },
  {
   "cell_type": "code",
   "execution_count": 30,
   "id": "d3952d90-da3e-4d2f-8826-1a33657d032b",
   "metadata": {},
   "outputs": [
    {
     "name": "stdout",
     "output_type": "stream",
     "text": [
      "-76\n"
     ]
    }
   ],
   "source": [
    "num = 76\n",
    "print(-num)"
   ]
  },
  {
   "cell_type": "markdown",
   "id": "cb132e0a-2a6b-4e7f-a338-8ecb6d11bff0",
   "metadata": {},
   "source": [
    "# 8. Use the ternary operator to assign values based on conditions."
   ]
  },
  {
   "cell_type": "code",
   "execution_count": 36,
   "id": "38f29f5f-1185-40d6-9110-3ebd6657e8fe",
   "metadata": {},
   "outputs": [
    {
     "name": "stdout",
     "output_type": "stream",
     "text": [
      "odd\n"
     ]
    }
   ],
   "source": [
    "num = 15\n",
    "result = 'even' if num%2==0 else 'odd'\n",
    "print(result)"
   ]
  },
  {
   "cell_type": "code",
   "execution_count": null,
   "id": "6d0836ef-5e2a-4cc9-8feb-7f1faef7924d",
   "metadata": {},
   "outputs": [],
   "source": []
  }
 ],
 "metadata": {
  "kernelspec": {
   "display_name": "Python 3 (ipykernel)",
   "language": "python",
   "name": "python3"
  },
  "language_info": {
   "codemirror_mode": {
    "name": "ipython",
    "version": 3
   },
   "file_extension": ".py",
   "mimetype": "text/x-python",
   "name": "python",
   "nbconvert_exporter": "python",
   "pygments_lexer": "ipython3",
   "version": "3.12.1"
  }
 },
 "nbformat": 4,
 "nbformat_minor": 5
}
