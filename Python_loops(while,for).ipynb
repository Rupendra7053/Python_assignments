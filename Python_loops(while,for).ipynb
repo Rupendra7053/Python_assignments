{
 "cells": [
  {
   "cell_type": "markdown",
   "id": "bc0e3b06-b6d5-4bb6-8fed-1ac5e71e7d2f",
   "metadata": {},
   "source": [
    "# 1. Print numbers from 1 to 5 using a while loop"
   ]
  },
  {
   "cell_type": "code",
   "execution_count": 15,
   "id": "011ae100-4a4a-4fbd-b7c3-1d871ecaa0ad",
   "metadata": {},
   "outputs": [
    {
     "name": "stdout",
     "output_type": "stream",
     "text": [
      "1\n",
      "2\n",
      "3\n",
      "4\n",
      "5\n"
     ]
    }
   ],
   "source": [
    "i = 1\n",
    "while i <=5:\n",
    "    print(i)\n",
    "    i+=1"
   ]
  },
  {
   "cell_type": "markdown",
   "id": "5b5d056f-f873-4646-87e7-1eafd1ff89a3",
   "metadata": {},
   "source": [
    "# 2. Calculate the sum of number from 1 to 10 using a while loop"
   ]
  },
  {
   "cell_type": "code",
   "execution_count": 1,
   "id": "c6908745-d1ef-4a30-9de1-f5dec70f4747",
   "metadata": {},
   "outputs": [
    {
     "name": "stdout",
     "output_type": "stream",
     "text": [
      "Sum of all numbers from 1 to 10 is : 55\n"
     ]
    }
   ],
   "source": [
    "i = 1\n",
    "sum = 0\n",
    "while i<=10:\n",
    "    sum = sum + i \n",
    "    i+=1\n",
    "print(f\"Sum of all numbers from 1 to 10 is : {sum}\")"
   ]
  },
  {
   "cell_type": "markdown",
   "id": "72c106cc-e26f-4d05-8e9c-6adb3069b919",
   "metadata": {},
   "source": [
    "# 3. Calculate the factorial of a number using a for loop"
   ]
  },
  {
   "cell_type": "code",
   "execution_count": 7,
   "id": "35d9fc4a-9af2-4afb-9488-700344dd553e",
   "metadata": {},
   "outputs": [
    {
     "name": "stdin",
     "output_type": "stream",
     "text": [
      "Enter the number :  5\n"
     ]
    },
    {
     "name": "stdout",
     "output_type": "stream",
     "text": [
      "Factorial of 5 is 120\n"
     ]
    }
   ],
   "source": [
    "input_num = int(input(\"Enter the number : \"))\n",
    "fact = 1\n",
    "for i in range(1,input_num+1):\n",
    "    fact = fact * i\n",
    "print(f\"Factorial of {input_num} is {fact}\")    "
   ]
  },
  {
   "cell_type": "markdown",
   "id": "44518351-dbf5-4e9e-abd3-0672f3162737",
   "metadata": {},
   "source": [
    "# 4. Count the number of vowels in a string using a for loop"
   ]
  },
  {
   "cell_type": "code",
   "execution_count": 1,
   "id": "82a52dea-b2dd-4dff-bddb-961460a4e8f2",
   "metadata": {},
   "outputs": [
    {
     "name": "stdout",
     "output_type": "stream",
     "text": [
      "Number of vowels in given string is 10\n"
     ]
    }
   ],
   "source": [
    "input_string = 'Pw skills is a great platform to learn'\n",
    "vowel_count = 0\n",
    "for char in input_string.lower():\n",
    "    if char in 'aeiou':\n",
    "        vowel_count += 1\n",
    "print(f\"Number of vowels in given string is {vowel_count}\")"
   ]
  },
  {
   "cell_type": "markdown",
   "id": "d2ffa3e7-c704-497e-b4f8-9d18c28b4f38",
   "metadata": {},
   "source": [
    "# 5. Print a pattern using nested loops"
   ]
  },
  {
   "cell_type": "code",
   "execution_count": 13,
   "id": "7b9bfa4e-3f11-42a5-8de5-2431c4ca00f3",
   "metadata": {},
   "outputs": [
    {
     "name": "stdout",
     "output_type": "stream",
     "text": [
      "* \n",
      "* * \n",
      "* * * \n",
      "* * * * \n",
      "* * * * * \n"
     ]
    }
   ],
   "source": [
    "# Right angle triangle \n",
    "for i in range(5):\n",
    "    for j in range(i+1):\n",
    "        print('*', end = ' ')\n",
    "    print('')"
   ]
  },
  {
   "cell_type": "markdown",
   "id": "8ecd29f2-9162-47e4-852b-4baf7800cf5a",
   "metadata": {},
   "source": [
    "# 6. Generate a multiplication table using nested loop "
   ]
  },
  {
   "cell_type": "code",
   "execution_count": 3,
   "id": "4622b9ce-7ed9-466f-bd27-1b9f67baa960",
   "metadata": {},
   "outputs": [
    {
     "name": "stdout",
     "output_type": "stream",
     "text": [
      "9 X 1 = 9\n",
      "9 X 2 = 18\n",
      "9 X 3 = 27\n",
      "9 X 4 = 36\n",
      "9 X 5 = 45\n",
      "9 X 6 = 54\n",
      "9 X 7 = 63\n",
      "9 X 8 = 72\n",
      "9 X 9 = 81\n",
      "9 X 10 = 90\n"
     ]
    }
   ],
   "source": [
    "input_num = 9\n",
    "for i in range(1,11):\n",
    "    print(f\"{input_num} X {i} = {input_num * i}\")\n",
    "    "
   ]
  },
  {
   "cell_type": "code",
   "execution_count": null,
   "id": "47af334b-ced3-44a1-afba-3c50053eb4a0",
   "metadata": {},
   "outputs": [],
   "source": []
  }
 ],
 "metadata": {
  "kernelspec": {
   "display_name": "Python 3 (ipykernel)",
   "language": "python",
   "name": "python3"
  },
  "language_info": {
   "codemirror_mode": {
    "name": "ipython",
    "version": 3
   },
   "file_extension": ".py",
   "mimetype": "text/x-python",
   "name": "python",
   "nbconvert_exporter": "python",
   "pygments_lexer": "ipython3",
   "version": "3.12.1"
  }
 },
 "nbformat": 4,
 "nbformat_minor": 5
}
