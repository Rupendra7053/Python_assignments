{
 "cells": [
  {
   "cell_type": "markdown",
   "id": "d4933259-a958-46c1-8d4f-e40f1bf3d9e6",
   "metadata": {
    "jp-MarkdownHeadingCollapsed": true
   },
   "source": [
    "# 1. Convert an integer to a floating point number."
   ]
  },
  {
   "cell_type": "code",
   "execution_count": 14,
   "id": "d70b6d7f-5713-4add-85f6-081ca6d2d8ef",
   "metadata": {},
   "outputs": [
    {
     "name": "stdout",
     "output_type": "stream",
     "text": [
      "526.0 <class 'float'>\n"
     ]
    }
   ],
   "source": [
    "integer_value = 526\n",
    "float_value = float(integer_value)\n",
    "print(float_value, type(float_value))"
   ]
  },
  {
   "cell_type": "markdown",
   "id": "1de571a8-667d-4f23-95de-89ec89a0e205",
   "metadata": {
    "jp-MarkdownHeadingCollapsed": true
   },
   "source": [
    "# 2. Convert a float to an integer"
   ]
  },
  {
   "cell_type": "code",
   "execution_count": 13,
   "id": "ba1403e8-530a-4f1a-9e0f-43e69b8e80ec",
   "metadata": {},
   "outputs": [
    {
     "name": "stdout",
     "output_type": "stream",
     "text": [
      "526 <class 'int'>\n"
     ]
    }
   ],
   "source": [
    "float_value1 = 526.215\n",
    "integer_value1 = int(float_value1)\n",
    "print(integer_value1, type(integer_value1))"
   ]
  },
  {
   "cell_type": "markdown",
   "id": "1b6c4355-f605-4a98-84e7-2199e81215a6",
   "metadata": {
    "jp-MarkdownHeadingCollapsed": true
   },
   "source": [
    "# 3. Convert an integer value to a string"
   ]
  },
  {
   "cell_type": "code",
   "execution_count": 12,
   "id": "53e914e4-b817-4de2-a920-2f51736a3d8e",
   "metadata": {},
   "outputs": [
    {
     "name": "stdout",
     "output_type": "stream",
     "text": [
      "526 <class 'str'>\n"
     ]
    }
   ],
   "source": [
    "integer_value2 = 456\n",
    "string_value = str(integer_value)\n",
    "print(string_value , type(string_value))"
   ]
  },
  {
   "cell_type": "markdown",
   "id": "46bc3500-69d1-4340-9775-bce7fe644e6b",
   "metadata": {
    "jp-MarkdownHeadingCollapsed": true
   },
   "source": [
    "# 4. Convert a list to a tuple"
   ]
  },
  {
   "cell_type": "code",
   "execution_count": 16,
   "id": "56066952-863e-449b-98b9-ffc245ee6904",
   "metadata": {},
   "outputs": [
    {
     "name": "stdout",
     "output_type": "stream",
     "text": [
      "('Ram', 1, 2, (5+6j), True) <class 'tuple'>\n"
     ]
    }
   ],
   "source": [
    "list1 = ['Ram',1,2,5+6j,True]\n",
    "tuple1 = tuple(list1)\n",
    "print(tuple1, type(tuple1))"
   ]
  },
  {
   "cell_type": "markdown",
   "id": "7d064eb1-e82b-4e25-89b7-dee40d6fd5d2",
   "metadata": {
    "jp-MarkdownHeadingCollapsed": true
   },
   "source": [
    "# 5. Convert a tuple to a list"
   ]
  },
  {
   "cell_type": "code",
   "execution_count": 17,
   "id": "ec61ea15-d00c-4de2-8c95-a2e836584877",
   "metadata": {},
   "outputs": [
    {
     "name": "stdout",
     "output_type": "stream",
     "text": [
      "['ram', 5, 6, 'shyam'] <class 'list'>\n"
     ]
    }
   ],
   "source": [
    "tuple2 = ('ram',5,6,'shyam')\n",
    "list2 = list(tuple2)\n",
    "print(list2, type(list2))"
   ]
  },
  {
   "cell_type": "markdown",
   "id": "9eff987a-654e-45ee-a37c-06f646603af1",
   "metadata": {
    "jp-MarkdownHeadingCollapsed": true
   },
   "source": [
    "# 6. Convert a decimal number to binary number"
   ]
  },
  {
   "cell_type": "code",
   "execution_count": 21,
   "id": "a4cb4f45-3906-40b3-810e-14591eb8e6eb",
   "metadata": {},
   "outputs": [
    {
     "name": "stdout",
     "output_type": "stream",
     "text": [
      "0b1010\n"
     ]
    }
   ],
   "source": [
    "decimal_num = 10\n",
    "binary_num = bin(decimal_num)\n",
    "print(binary_num)"
   ]
  },
  {
   "cell_type": "markdown",
   "id": "3c60f9ce-8224-4685-8391-ece73dcd9816",
   "metadata": {
    "jp-MarkdownHeadingCollapsed": true
   },
   "source": [
    "# 7. Convert a non-zero number to boolean. "
   ]
  },
  {
   "cell_type": "code",
   "execution_count": 26,
   "id": "bed99e86-4d49-4a7a-a62e-6708cf75e617",
   "metadata": {},
   "outputs": [
    {
     "name": "stdout",
     "output_type": "stream",
     "text": [
      "True <class 'bool'>\n"
     ]
    }
   ],
   "source": [
    "num = 25\n",
    "bool_value = bool(num)\n",
    "print(bool_value , type(bool_value))"
   ]
  },
  {
   "cell_type": "code",
   "execution_count": null,
   "id": "b0af8772-bdee-4582-b5b0-e96fbac2e903",
   "metadata": {},
   "outputs": [],
   "source": []
  }
 ],
 "metadata": {
  "kernelspec": {
   "display_name": "Python 3 (ipykernel)",
   "language": "python",
   "name": "python3"
  },
  "language_info": {
   "codemirror_mode": {
    "name": "ipython",
    "version": 3
   },
   "file_extension": ".py",
   "mimetype": "text/x-python",
   "name": "python",
   "nbconvert_exporter": "python",
   "pygments_lexer": "ipython3",
   "version": "3.12.1"
  }
 },
 "nbformat": 4,
 "nbformat_minor": 5
}
